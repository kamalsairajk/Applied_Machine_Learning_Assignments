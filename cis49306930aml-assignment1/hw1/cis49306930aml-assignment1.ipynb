{
 "cells": [
  {
   "cell_type": "markdown",
   "metadata": {},
   "source": [
    "# Assignment 1: ML Engineering 1"
   ]
  },
  {
   "cell_type": "code",
   "execution_count": 135,
   "metadata": {},
   "outputs": [],
   "source": [
    "# enter your name and UFL email address\n",
    "name = 'Kamal Sai Raj Kuncha'\n",
    "email = 'k.kuncha@ufl.edu'"
   ]
  },
  {
   "cell_type": "code",
   "execution_count": 136,
   "metadata": {},
   "outputs": [
    {
     "name": "stdout",
     "output_type": "stream",
     "text": [
      "Assignment 1 -- name: Kamal Sai Raj Kuncha, email: k.kuncha@ufl.edu\n",
      "\n",
      "### Python version: 3.6.5 (v3.6.5:f59c0932b4, Mar 28 2018, 17:00:18) [MSC v.1900 64 bit (AMD64)]\n",
      "### TF version: 2.4.0\n",
      "### Keras version: 2.4.0\n",
      "------------\n"
     ]
    }
   ],
   "source": [
    "if name == 'enter your name' or email == 'enter your email':\n",
    "    assert False, 'Enter your name & email first!'\n",
    "else:\n",
    "    print('Assignment 1 -- name: {}, email: {}\\n'.format(name, email))\n",
    "    \n",
    "    # Load packages we need\n",
    "    import sys\n",
    "    import os\n",
    "    import time\n",
    "    import tempfile \n",
    "\n",
    "    import numpy as np\n",
    "    import pandas as pd\n",
    "\n",
    "    from matplotlib import pyplot as plt\n",
    "    plt.rcParams.update({'font.size': 16})\n",
    "\n",
    "    import tensorflow as tf\n",
    "\n",
    "\n",
    "    # Let's check our software versions\n",
    "    print('### Python version: ' + __import__('sys').version)\n",
    "    print('### TF version: ' + tf.__version__)\n",
    "    print('### Keras version: ' + tf.keras.__version__)\n",
    "    print('------------')\n",
    "\n",
    "\n",
    "    # load our packages / code\n",
    "    sys.path.insert(1, '../common/')\n",
    "    import utils\n",
    "    import plots"
   ]
  },
  {
   "cell_type": "code",
   "execution_count": 137,
   "metadata": {},
   "outputs": [],
   "source": [
    "# global parameters to control behavior of the pre-processing, ML, analysis, etc.\n",
    "seed = 17\n",
    "\n",
    "# deterministic seed for reproducibility\n",
    "np.random.seed(seed)"
   ]
  },
  {
   "cell_type": "markdown",
   "metadata": {},
   "source": [
    "## Part 1: Loading and Pre-processing Data"
   ]
  },
  {
   "cell_type": "markdown",
   "metadata": {},
   "source": [
    "### Loading data"
   ]
  },
  {
   "cell_type": "code",
   "execution_count": 138,
   "metadata": {},
   "outputs": [],
   "source": [
    "# Use pandas to load the data from compressed CSV\n",
    "df1 = pd.read_csv('../data/adult.data.gz', compression='gzip', header=0, na_values='?', sep=' *, *', skipinitialspace=True, engine='python')\n",
    "df2 = pd.read_csv('../data/adult.test.gz', compression='gzip', header=0, na_values='?',sep=' *, *', skipinitialspace=True, engine='python')"
   ]
  },
  {
   "cell_type": "code",
   "execution_count": 139,
   "metadata": {},
   "outputs": [],
   "source": [
    "# Check that we loaded the data as expected\n",
    "df1_expected_shape = (32561,15)\n",
    "df2_expected_shape = (16281,15)\n",
    "\n",
    "assert df1.shape == df1_expected_shape, 'Unexpected shape of df1!'\n",
    "assert df2.shape == df2_expected_shape, 'Unexpected shape of df2!'"
   ]
  },
  {
   "cell_type": "code",
   "execution_count": 140,
   "metadata": {},
   "outputs": [],
   "source": [
    "# Merge df1 and df2 for pre-processing and cleaning\n",
    "dfraw = df1.append(df2, ignore_index=True, sort=False)\n",
    "assert dfraw.shape == (df1_expected_shape[0]+df2_expected_shape[0],15)"
   ]
  },
  {
   "cell_type": "markdown",
   "metadata": {},
   "source": [
    "### Cleaning & pre-processing data"
   ]
  },
  {
   "cell_type": "code",
   "execution_count": 141,
   "metadata": {},
   "outputs": [
    {
     "data": {
      "text/plain": [
       "Index(['age', 'workclass', 'fnlwgt', 'education', 'education-num',\n",
       "       'marital-status', 'occupation', 'relationship', 'race', 'sex',\n",
       "       'capital-gain', 'capital-loss', 'hours-per-week', 'native-country',\n",
       "       'income'],\n",
       "      dtype='object')"
      ]
     },
     "execution_count": 141,
     "metadata": {},
     "output_type": "execute_result"
    }
   ],
   "source": [
    "## header right now: age (num), workclass (cat), fnlwgt (num), education (cat) education-num (num), marital-status (cat), occupation (cat), relationship (cat), race (cat), sex (cat), capital-gain (num), capital-loss (num), hours-per-week (num), native-country (cat), income (cat)\n",
    "dfraw.columns"
   ]
  },
  {
   "cell_type": "code",
   "execution_count": 142,
   "metadata": {},
   "outputs": [],
   "source": [
    "# Let's start cleaning up the data\n",
    "df = dfraw.copy()\n",
    "\n",
    "# Let's get rid of the record weights 'fnlwgt' and 'education' (which contains same information as 'education-num')\n",
    "if 'fnlwgt' in df.columns:\n",
    "    df = df.drop('fnlwgt', axis=1)\n",
    "if 'education' in df.columns:\n",
    "    df = df.drop('education', axis=1)\n",
    "\n",
    "# remove rows with NaN\n",
    "df = df.dropna(axis=0)"
   ]
  },
  {
   "cell_type": "code",
   "execution_count": 143,
   "metadata": {},
   "outputs": [],
   "source": [
    "# Now we need to recode the categorical attributes\n",
    "workclass_list = ['Federal-gov', 'Local-gov', 'Never-worked', 'Private', 'Self-emp-inc', 'Self-emp-not-inc', 'State-gov', 'Without-pay']\n",
    "\n",
    "marital_status_list = ['Divorced', 'Married-AF-spouse', 'Married-civ-spouse', 'Married-spouse-absent', 'Never-married', 'Separated', 'Widowed']\n",
    "\n",
    "occupation_list = ['Adm-clerical', 'Armed-Forces', 'Craft-repair', 'Exec-managerial', 'Farming-fishing', 'Handlers-cleaners', 'Machine-op-inspct', 'Other-service', 'Priv-house-serv', 'Prof-specialty', 'Protective-serv', 'Sales', 'Tech-support', 'Transport-moving' ]\n",
    "    \n",
    "relationship_list = ['Husband', 'Not-in-family', 'Other-relative', 'Own-child', 'Unmarried', 'Wife']\n",
    "\n",
    "race_list =['Amer-Indian-Eskimo', 'Asian-Pac-Islander', 'Black', 'Other', 'White' ]\n",
    "\n",
    "sex_list = ['Male', 'Female']\n",
    "\n",
    "native_country_list = ['Cambodia', 'Canada', 'China', 'Columbia', 'Cuba', 'Dominican-Republic',\n",
    "        'Ecuador', 'El-Salvador', 'England', 'France', 'Germany', 'Greece',\n",
    "        'Guatemala', 'Haiti', 'Holand-Netherlands', 'Honduras', 'Hong', 'Hungary',\n",
    "        'India', 'Iran', 'Ireland', 'Italy', 'Jamaica', 'Japan', 'Laos', 'Mexico',\n",
    "        'Nicaragua', 'Outlying-US(Guam-USVI-etc)', 'Peru', 'Philippines', 'Poland',\n",
    "        'Portugal', 'Puerto-Rico', 'Scotland', 'South', 'Taiwan', 'Thailand',\n",
    "        'Trinadad&Tobago', 'United-States', 'Vietnam', 'Yugoslavia']\n",
    "\n",
    "income_list = ['<=50K', '>50K']\n",
    "\n",
    "cat_cols = ['workclass', 'marital-status', 'occupation', 'relationship', 'race', 'sex', 'native-country', 'income']\n",
    "cat_lists = [workclass_list, marital_status_list, occupation_list, relationship_list, race_list, sex_list, native_country_list, income_list]\n",
    "\n",
    "# first make all the numerical cols integers\n",
    "is_cat = []\n",
    "for col_name in df.columns:\n",
    "    cat = True\n",
    "    if not col_name in cat_cols:\n",
    "        df[col_name] = df[col_name].astype(float)\n",
    "        cat = False\n",
    "    is_cat.append(cat)\n",
    "\n",
    "# encode categorical\n",
    "for i, col_name in enumerate(cat_cols):\n",
    "    df[col_name] = df[col_name].apply(lambda v: cat_lists[i].index(v))\n",
    "    df[col_name] = df[col_name].astype(int)\n",
    "\n",
    "# finally, make education-num 0 based and integer\n",
    "df['education-num'] = (df['education-num']-1).astype(int)\n",
    "    \n",
    "    \n",
    "is_cat = [True if col_name in cat_cols else False for col_name in df.columns]\n",
    "is_cat[2] = True # education num\n",
    "col_names = df.columns\n",
    "col_names = [c for c in df.columns]"
   ]
  },
  {
   "cell_type": "markdown",
   "metadata": {},
   "source": [
    "## [Task 1] (15 points) Let's look at our data!"
   ]
  },
  {
   "cell_type": "markdown",
   "metadata": {},
   "source": [
    "### [Task 1a] (5 points) Display some info about our DataFrame (df)."
   ]
  },
  {
   "cell_type": "code",
   "execution_count": 144,
   "metadata": {},
   "outputs": [
    {
     "name": "stdout",
     "output_type": "stream",
     "text": [
      "<class 'pandas.core.frame.DataFrame'>\n",
      "Int64Index: 45222 entries, 0 to 48841\n",
      "Data columns (total 13 columns):\n",
      " #   Column          Non-Null Count  Dtype  \n",
      "---  ------          --------------  -----  \n",
      " 0   age             45222 non-null  float64\n",
      " 1   workclass       45222 non-null  int32  \n",
      " 2   education-num   45222 non-null  int32  \n",
      " 3   marital-status  45222 non-null  int32  \n",
      " 4   occupation      45222 non-null  int32  \n",
      " 5   relationship    45222 non-null  int32  \n",
      " 6   race            45222 non-null  int32  \n",
      " 7   sex             45222 non-null  int32  \n",
      " 8   capital-gain    45222 non-null  float64\n",
      " 9   capital-loss    45222 non-null  float64\n",
      " 10  hours-per-week  45222 non-null  float64\n",
      " 11  native-country  45222 non-null  int32  \n",
      " 12  income          45222 non-null  int32  \n",
      "dtypes: float64(4), int32(9)\n",
      "memory usage: 3.3 MB\n"
     ]
    }
   ],
   "source": [
    "###* Put your code below (hint: 1 line) *###\n",
    "df.info()"
   ]
  },
  {
   "cell_type": "markdown",
   "metadata": {},
   "source": [
    "### [Task 1b] (5 points) Show the first 8 rows of our DataFrame (df)."
   ]
  },
  {
   "cell_type": "code",
   "execution_count": 145,
   "metadata": {},
   "outputs": [
    {
     "data": {
      "text/html": [
       "<div>\n",
       "<style scoped>\n",
       "    .dataframe tbody tr th:only-of-type {\n",
       "        vertical-align: middle;\n",
       "    }\n",
       "\n",
       "    .dataframe tbody tr th {\n",
       "        vertical-align: top;\n",
       "    }\n",
       "\n",
       "    .dataframe thead th {\n",
       "        text-align: right;\n",
       "    }\n",
       "</style>\n",
       "<table border=\"1\" class=\"dataframe\">\n",
       "  <thead>\n",
       "    <tr style=\"text-align: right;\">\n",
       "      <th></th>\n",
       "      <th>age</th>\n",
       "      <th>workclass</th>\n",
       "      <th>education-num</th>\n",
       "      <th>marital-status</th>\n",
       "      <th>occupation</th>\n",
       "      <th>relationship</th>\n",
       "      <th>race</th>\n",
       "      <th>sex</th>\n",
       "      <th>capital-gain</th>\n",
       "      <th>capital-loss</th>\n",
       "      <th>hours-per-week</th>\n",
       "      <th>native-country</th>\n",
       "      <th>income</th>\n",
       "    </tr>\n",
       "  </thead>\n",
       "  <tbody>\n",
       "    <tr>\n",
       "      <th>0</th>\n",
       "      <td>39.0</td>\n",
       "      <td>6</td>\n",
       "      <td>12</td>\n",
       "      <td>4</td>\n",
       "      <td>0</td>\n",
       "      <td>1</td>\n",
       "      <td>4</td>\n",
       "      <td>0</td>\n",
       "      <td>2174.0</td>\n",
       "      <td>0.0</td>\n",
       "      <td>40.0</td>\n",
       "      <td>38</td>\n",
       "      <td>0</td>\n",
       "    </tr>\n",
       "    <tr>\n",
       "      <th>1</th>\n",
       "      <td>50.0</td>\n",
       "      <td>5</td>\n",
       "      <td>12</td>\n",
       "      <td>2</td>\n",
       "      <td>3</td>\n",
       "      <td>0</td>\n",
       "      <td>4</td>\n",
       "      <td>0</td>\n",
       "      <td>0.0</td>\n",
       "      <td>0.0</td>\n",
       "      <td>13.0</td>\n",
       "      <td>38</td>\n",
       "      <td>0</td>\n",
       "    </tr>\n",
       "    <tr>\n",
       "      <th>2</th>\n",
       "      <td>38.0</td>\n",
       "      <td>3</td>\n",
       "      <td>8</td>\n",
       "      <td>0</td>\n",
       "      <td>5</td>\n",
       "      <td>1</td>\n",
       "      <td>4</td>\n",
       "      <td>0</td>\n",
       "      <td>0.0</td>\n",
       "      <td>0.0</td>\n",
       "      <td>40.0</td>\n",
       "      <td>38</td>\n",
       "      <td>0</td>\n",
       "    </tr>\n",
       "    <tr>\n",
       "      <th>3</th>\n",
       "      <td>53.0</td>\n",
       "      <td>3</td>\n",
       "      <td>6</td>\n",
       "      <td>2</td>\n",
       "      <td>5</td>\n",
       "      <td>0</td>\n",
       "      <td>2</td>\n",
       "      <td>0</td>\n",
       "      <td>0.0</td>\n",
       "      <td>0.0</td>\n",
       "      <td>40.0</td>\n",
       "      <td>38</td>\n",
       "      <td>0</td>\n",
       "    </tr>\n",
       "    <tr>\n",
       "      <th>4</th>\n",
       "      <td>28.0</td>\n",
       "      <td>3</td>\n",
       "      <td>12</td>\n",
       "      <td>2</td>\n",
       "      <td>9</td>\n",
       "      <td>5</td>\n",
       "      <td>2</td>\n",
       "      <td>1</td>\n",
       "      <td>0.0</td>\n",
       "      <td>0.0</td>\n",
       "      <td>40.0</td>\n",
       "      <td>4</td>\n",
       "      <td>0</td>\n",
       "    </tr>\n",
       "    <tr>\n",
       "      <th>5</th>\n",
       "      <td>37.0</td>\n",
       "      <td>3</td>\n",
       "      <td>13</td>\n",
       "      <td>2</td>\n",
       "      <td>3</td>\n",
       "      <td>5</td>\n",
       "      <td>4</td>\n",
       "      <td>1</td>\n",
       "      <td>0.0</td>\n",
       "      <td>0.0</td>\n",
       "      <td>40.0</td>\n",
       "      <td>38</td>\n",
       "      <td>0</td>\n",
       "    </tr>\n",
       "    <tr>\n",
       "      <th>6</th>\n",
       "      <td>49.0</td>\n",
       "      <td>3</td>\n",
       "      <td>4</td>\n",
       "      <td>3</td>\n",
       "      <td>7</td>\n",
       "      <td>1</td>\n",
       "      <td>2</td>\n",
       "      <td>1</td>\n",
       "      <td>0.0</td>\n",
       "      <td>0.0</td>\n",
       "      <td>16.0</td>\n",
       "      <td>22</td>\n",
       "      <td>0</td>\n",
       "    </tr>\n",
       "    <tr>\n",
       "      <th>7</th>\n",
       "      <td>52.0</td>\n",
       "      <td>5</td>\n",
       "      <td>8</td>\n",
       "      <td>2</td>\n",
       "      <td>3</td>\n",
       "      <td>0</td>\n",
       "      <td>4</td>\n",
       "      <td>0</td>\n",
       "      <td>0.0</td>\n",
       "      <td>0.0</td>\n",
       "      <td>45.0</td>\n",
       "      <td>38</td>\n",
       "      <td>1</td>\n",
       "    </tr>\n",
       "  </tbody>\n",
       "</table>\n",
       "</div>"
      ],
      "text/plain": [
       "    age  workclass  education-num  marital-status  occupation  relationship  \\\n",
       "0  39.0          6             12               4           0             1   \n",
       "1  50.0          5             12               2           3             0   \n",
       "2  38.0          3              8               0           5             1   \n",
       "3  53.0          3              6               2           5             0   \n",
       "4  28.0          3             12               2           9             5   \n",
       "5  37.0          3             13               2           3             5   \n",
       "6  49.0          3              4               3           7             1   \n",
       "7  52.0          5              8               2           3             0   \n",
       "\n",
       "   race  sex  capital-gain  capital-loss  hours-per-week  native-country  \\\n",
       "0     4    0        2174.0           0.0            40.0              38   \n",
       "1     4    0           0.0           0.0            13.0              38   \n",
       "2     4    0           0.0           0.0            40.0              38   \n",
       "3     2    0           0.0           0.0            40.0              38   \n",
       "4     2    1           0.0           0.0            40.0               4   \n",
       "5     4    1           0.0           0.0            40.0              38   \n",
       "6     2    1           0.0           0.0            16.0              22   \n",
       "7     4    0           0.0           0.0            45.0              38   \n",
       "\n",
       "   income  \n",
       "0       0  \n",
       "1       0  \n",
       "2       0  \n",
       "3       0  \n",
       "4       0  \n",
       "5       0  \n",
       "6       0  \n",
       "7       1  "
      ]
     },
     "execution_count": 145,
     "metadata": {},
     "output_type": "execute_result"
    }
   ],
   "source": [
    "###* Put your code below (hint: 1 line, be sure that you display exactly the first 8 rows) *###\n",
    "df.head(8)"
   ]
  },
  {
   "cell_type": "markdown",
   "metadata": {},
   "source": [
    "### [Task 1c] (5 points) Display the shape of our DataFrame (df). "
   ]
  },
  {
   "cell_type": "code",
   "execution_count": 146,
   "metadata": {},
   "outputs": [
    {
     "data": {
      "text/plain": [
       "(45222, 13)"
      ]
     },
     "execution_count": 146,
     "metadata": {},
     "output_type": "execute_result"
    }
   ],
   "source": [
    "# how many records do we have?\n",
    "###* Put your code below (hint: 1 line) *###\n",
    "df.shape"
   ]
  },
  {
   "cell_type": "markdown",
   "metadata": {},
   "source": [
    "### Feature engineering"
   ]
  },
  {
   "cell_type": "code",
   "execution_count": 147,
   "metadata": {},
   "outputs": [],
   "source": [
    "# grab all the data as a numpy array\n",
    "all_xy = np.asarray(df, dtype='float64')\n",
    "assert all_xy.shape[1] == 13\n",
    "\n",
    "label_col_idx = all_xy.shape[1]-1\n",
    "features_col_idx = range(0, label_col_idx)\n",
    "\n",
    "feature_names = col_names[0:label_col_idx]"
   ]
  },
  {
   "cell_type": "code",
   "execution_count": 148,
   "metadata": {},
   "outputs": [],
   "source": [
    "# separate features from the label\n",
    "all_x = all_xy[:,features_col_idx]\n",
    "all_y = all_xy[:,label_col_idx]\n",
    "\n",
    "is_cat_features = is_cat[0:len(is_cat)-1]"
   ]
  },
  {
   "cell_type": "markdown",
   "metadata": {},
   "source": [
    "## [Task 2] (35 points) Feature Engineering"
   ]
  },
  {
   "cell_type": "markdown",
   "metadata": {},
   "source": [
    "### [Task 2a] (10 points) Standardize (i.e., z-score normalize) the numerical features of 'all_x', store the results (all features, all instances) in 'all_x_zscore'."
   ]
  },
  {
   "cell_type": "code",
   "execution_count": 149,
   "metadata": {},
   "outputs": [],
   "source": [
    "###* Put your code below. Be sure to store the result back into 'all_x_zscore' (make a copy, do not modify 'all_x')! *###\n",
    "###* Hint: use is_cat_features to determine the features to standardize *###\n",
    "###* Note: you can use scikit-learn or you can do it manually with numpy. *###\n",
    "###* If you do it manually, it is recommended to put your code in the utils.py file (name your function 'zscore_normalize') *###\n",
    "from scipy import stats\n",
    "\n",
    "all_x_copy=np.copy(all_x)\n",
    "for i in range(all_x_copy.shape[1]):\n",
    "    if is_cat_features[i]==False:\n",
    "        all_x_copy[:,i]=stats.zscore(all_x_copy[:,i])\n",
    "\n",
    "all_x_zscore=all_x_copy         "
   ]
  },
  {
   "cell_type": "markdown",
   "metadata": {},
   "source": [
    "### [Task 2b] (10 points) Normalize (i.e., min-max normalize) the numerical features of 'all_x', store the results (all features, all instances) in 'all_x_normalized'."
   ]
  },
  {
   "cell_type": "code",
   "execution_count": 150,
   "metadata": {},
   "outputs": [],
   "source": [
    "###* Put your code below. Be sure to store the result back into 'all_x_normalized' (make a copy, do not modify 'all_x')! *###\n",
    "###* Hint: use is_cat_features to determine the features to normalize *###\n",
    "###* Note: you can use scikit-learn or you can do it manually with numpy. *###\n",
    "###* If you do it manually, it is recommended to put your code in the utils.py file (name your function 'minmax_normalize') *###\n",
    "from sklearn.preprocessing import MinMaxScaler\n",
    "all_x_copy1=np.copy(all_x)\n",
    "scaler=MinMaxScaler()\n",
    "for i in range(all_x_copy1.shape[1]):\n",
    "    if is_cat_features[i]==False:\n",
    "        all_x_copy1[:,i]=scaler.fit_transform(all_x_copy1[:,i].reshape(-1,1)).reshape(all_x_copy1.shape[0])\n",
    "        \n",
    "all_x_normalized=all_x_copy1"
   ]
  },
  {
   "cell_type": "markdown",
   "metadata": {},
   "source": [
    "### [Task 2c] (10 points) Convert the categorical features to binary features (one-hot encoding) of 'all_x_zscore' and 'all_x_normalized'. Store the results (all features, all instances) in 'all_x_zscore_onehot' and 'all_x_normalized_onehot'."
   ]
  },
  {
   "cell_type": "code",
   "execution_count": 151,
   "metadata": {
    "scrolled": true
   },
   "outputs": [],
   "source": [
    "###* Put your code below. Be sure to store the result back into 'all_x_zscore_onehot' and 'all_x_normalized' (make a copy, do not modify 'all_x')! *###\n",
    "###* Hint: use is_cat_features to determine the features to one-hot encode *###\n",
    "###* Note: you can use scikit-learn or you can do it manually with numpy. *###\n",
    "###* If you do it manually, it is recommended to put your code in the utils.py file (name your function 'one_hot_encode') *###\n",
    "from sklearn.preprocessing import OneHotEncoder\n",
    "all_x_zscore_copy=np.copy(all_x_zscore)\n",
    "all_x_normalized_copy=np.copy(all_x_normalized)\n",
    "all_x_zscore_onehot=all_x_zscore_copy\n",
    "all_x_normalized_onehot=all_x_normalized_copy\n",
    "onehot=OneHotEncoder(sparse=False)\n",
    "for i in range(all_x_copy1.shape[1]):\n",
    "    if is_cat_features[i]==True:\n",
    "        k=onehot.fit_transform(all_x_zscore_copy[:,i].reshape(-1,1))\n",
    "        all_x_zscore_onehot=np.concatenate((all_x_zscore_onehot,k),axis=1)\n",
    "        l=onehot.fit_transform(all_x_normalized_copy[:,i].reshape(-1,1))\n",
    "        all_x_normalized_onehot=np.concatenate((all_x_normalized_onehot,l),axis=1)\n",
    "\n",
    "for i in range(all_x_copy1.shape[1]):\n",
    "    if is_cat_features[i]==True: \n",
    "        all_x_zscore_onehot=np.delete(all_x_zscore_onehot,i,axis=1)\n",
    "        all_x_normalized_onehot=np.delete(all_x_normalized_onehot,i,axis=1)\n"
   ]
  },
  {
   "cell_type": "markdown",
   "metadata": {},
   "source": [
    "### [Task 2d] (5 points) Sanity check of the mean and standard deviation of 'all_x_zscore', the min/max of 'all_x_normalized'"
   ]
  },
  {
   "cell_type": "code",
   "execution_count": 152,
   "metadata": {},
   "outputs": [
    {
     "name": "stdout",
     "output_type": "stream",
     "text": [
      "--- age ---\n",
      "min: -1.63\n",
      "max: 3.89\n",
      "mean (+- std): -0.00 (+- 1.00)\n",
      "\n",
      "--- capital-gain ---\n",
      "min: -0.15\n",
      "max: 13.18\n",
      "mean (+- std): -0.00 (+- 1.00)\n",
      "\n",
      "--- capital-loss ---\n",
      "min: -0.22\n",
      "max: 10.54\n",
      "mean (+- std): 0.00 (+- 1.00)\n",
      "\n",
      "--- age ---\n",
      "min: 0.00\n",
      "max: 1.00\n",
      "mean (+- std): 0.30 (+- 0.18)\n",
      "\n",
      "--- capital-gain ---\n",
      "min: 0.00\n",
      "max: 1.00\n",
      "mean (+- std): 0.01 (+- 0.08)\n",
      "\n",
      "--- capital-loss ---\n",
      "min: 0.00\n",
      "max: 1.00\n",
      "mean (+- std): 0.02 (+- 0.09)\n",
      "\n"
     ]
    }
   ],
   "source": [
    "# sanity check the means and std, min/max\n",
    "###* Put your code below. Display the mean, standard deviation, min, max of a few (e.g., 3 or 4) \n",
    "### of features (e.g., those normalized, standardized, one-hot encoded) *###\n",
    "\n",
    "utils.print_array_basic_stats(all_x_zscore[:,0], label=col_names[0])\n",
    "print()\n",
    "utils.print_array_basic_stats(all_x_zscore[:,8], label=col_names[8])\n",
    "print()\n",
    "utils.print_array_basic_stats(all_x_zscore[:,9], label=col_names[9])\n",
    "print()\n",
    "utils.print_array_basic_stats(all_x_normalized[:,0], label=col_names[0])\n",
    "print()\n",
    "utils.print_array_basic_stats(all_x_normalized[:,8], label=col_names[8])\n",
    "print()\n",
    "utils.print_array_basic_stats(all_x_normalized[:,9], label=col_names[9])\n",
    "print()"
   ]
  },
  {
   "cell_type": "markdown",
   "metadata": {},
   "source": [
    "### [Task 2d] What do you notice? Are the mean and standard deviation as you expected? What about the min/max? Why or why not?"
   ]
  },
  {
   "cell_type": "code",
   "execution_count": 153,
   "metadata": {},
   "outputs": [],
   "source": [
    "###* Put your answer as a comment *###\n",
    "# Yes, the values are as expected. The zscore normalization has varied max/min values depending on the feature values \n",
    "# but the scale is much smaller. The mean is 0 and standard deviation is 1 throughout all features, this is because in \n",
    "# zscore normalization, every feature value is subtracted by mean and divided by standard deviation.\n",
    "# The min/max normalization has converted the scale to 0 - 1 range, this implies features have same scale and \n",
    "# the mean and standard deviation are much closer to 0. This is because in min-max normalization the value is \n",
    "# subracted from the minimnum and divided the difference of maximum and minimum."
   ]
  },
  {
   "cell_type": "markdown",
   "metadata": {},
   "source": [
    "### Train, Test, Validation Split"
   ]
  },
  {
   "cell_type": "code",
   "execution_count": 154,
   "metadata": {},
   "outputs": [],
   "source": [
    "# now split between train, test, and validation\n",
    "prop_vec = [14, 3, 3]\n",
    "\n",
    "# what preprocessed features are we using?\n",
    "t = 'normalized'  # do not editing this line when answering task 3\n",
    "\n",
    "def grab_data(t):\n",
    "    if t == 'zscore':\n",
    "        features_x = all_x_zscore\n",
    "    elif t == 'normalized':\n",
    "        features_x = all_x_normalized\n",
    "    elif t == 'onehot_z':\n",
    "        features_x = all_x_zscore_onehot\n",
    "    elif t == 'onehot_n':\n",
    "        features_x = all_x_normalized_onehot\n",
    "    else:\n",
    "        features_x = all_x\n",
    "\n",
    "    # note: because of the deterministic split, we'll always be looking at the same records for train/val/test, \n",
    "    # no matter which preprocessed features set we look at\n",
    "    train_x, train_y, test_x, test_y, val_x, val_y = utils.train_test_val_split(features_x, all_y, prop_vec, \n",
    "                                                                                shuffle=True, seed=seed-1)\n",
    "    return train_x, train_y, test_x, test_y, val_x, val_y\n",
    "\n",
    "\n",
    "##-- Note: for task 3, we use the 'normalized' version of the data!\n",
    "train_x, train_y, test_x, test_y, val_x, val_y = grab_data(t)"
   ]
  },
  {
   "cell_type": "code",
   "execution_count": 155,
   "metadata": {},
   "outputs": [
    {
     "data": {
      "text/plain": [
       "((31656, 12), (31656,), (6784, 12), (6784,), (6782, 12), (6782,))"
      ]
     },
     "execution_count": 155,
     "metadata": {},
     "output_type": "execute_result"
    }
   ],
   "source": [
    "# sanity check shapes\n",
    "train_x.shape, train_y.shape, test_x.shape, test_y.shape, val_x.shape, val_y.shape"
   ]
  },
  {
   "cell_type": "markdown",
   "metadata": {},
   "source": [
    "### Stats & Looking at the data"
   ]
  },
  {
   "cell_type": "code",
   "execution_count": 156,
   "metadata": {},
   "outputs": [
    {
     "name": "stdout",
     "output_type": "stream",
     "text": [
      "--- income ---\n",
      "0.0: 23852\n",
      "1.0: 7804\n"
     ]
    }
   ],
   "source": [
    "# what does the distribution of labels look like?\n",
    "utils.print_array_hist(train_y, label=col_names[-1])"
   ]
  },
  {
   "cell_type": "code",
   "execution_count": 157,
   "metadata": {},
   "outputs": [
    {
     "name": "stdout",
     "output_type": "stream",
     "text": [
      "--- age ---\n",
      "min: 0.00\n",
      "max: 1.00\n",
      "mean (+- std): 0.30 (+- 0.18)\n",
      "\n",
      "--- workclass ---\n",
      "0.0: 968\n",
      "1.0: 2191\n",
      "3.0: 23327\n",
      "4.0: 1130\n",
      "5.0: 2661\n",
      "6.0: 1366\n",
      "7.0: 13\n",
      "\n",
      "--- education-num ---\n",
      "0.0: 52\n",
      "1.0: 152\n",
      "2.0: 326\n",
      "3.0: 615\n",
      "4.0: 476\n",
      "5.0: 888\n",
      "6.0: 1127\n",
      "7.0: 396\n",
      "8.0: 10203\n",
      "9.0: 6965\n",
      "10.0: 1365\n",
      "11.0: 1067\n",
      "12.0: 5314\n",
      "13.0: 1770\n",
      "14.0: 569\n",
      "15.0: 371\n",
      "\n",
      "--- marital-status ---\n",
      "0.0: 4471\n",
      "1.0: 21\n",
      "2.0: 14711\n",
      "3.0: 380\n",
      "4.0: 10215\n",
      "5.0: 983\n",
      "6.0: 875\n",
      "\n",
      "--- occupation ---\n",
      "0.0: 3835\n",
      "1.0: 11\n",
      "2.0: 4170\n",
      "3.0: 4239\n",
      "4.0: 1061\n",
      "5.0: 1447\n",
      "6.0: 2062\n",
      "7.0: 3352\n",
      "8.0: 160\n",
      "9.0: 4238\n",
      "10.0: 707\n",
      "11.0: 3780\n",
      "12.0: 964\n",
      "13.0: 1630\n",
      "\n",
      "--- relationship ---\n",
      "0.0: 13032\n",
      "1.0: 8215\n",
      "2.0: 941\n",
      "3.0: 4677\n",
      "4.0: 3329\n",
      "5.0: 1462\n",
      "\n",
      "--- race ---\n",
      "0.0: 305\n",
      "1.0: 886\n",
      "2.0: 2938\n",
      "3.0: 236\n",
      "4.0: 27291\n",
      "\n",
      "--- sex ---\n",
      "0.0: 21337\n",
      "1.0: 10319\n",
      "\n",
      "--- capital-gain ---\n",
      "min: 0.00\n",
      "max: 1.00\n",
      "mean (+- std): 0.01 (+- 0.08)\n",
      "\n",
      "--- capital-loss ---\n",
      "min: 0.00\n",
      "max: 1.00\n",
      "mean (+- std): 0.02 (+- 0.09)\n",
      "\n",
      "--- hours-per-week ---\n",
      "min: 0.00\n",
      "max: 1.00\n",
      "mean (+- std): 0.41 (+- 0.12)\n",
      "\n",
      "--- native-country ---\n",
      "0.0: 19\n",
      "1.0: 108\n",
      "2.0: 70\n",
      "3.0: 63\n",
      "4.0: 80\n",
      "5.0: 65\n",
      "6.0: 27\n",
      "7.0: 101\n",
      "8.0: 88\n",
      "9.0: 27\n",
      "10.0: 136\n",
      "11.0: 37\n",
      "12.0: 66\n",
      "13.0: 44\n",
      "14.0: 1\n",
      "15.0: 12\n",
      "16.0: 20\n",
      "17.0: 13\n",
      "18.0: 95\n",
      "19.0: 37\n",
      "20.0: 22\n",
      "21.0: 79\n",
      "22.0: 68\n",
      "23.0: 66\n",
      "24.0: 11\n",
      "25.0: 658\n",
      "26.0: 37\n",
      "27.0: 18\n",
      "28.0: 31\n",
      "29.0: 185\n",
      "30.0: 55\n",
      "31.0: 42\n",
      "32.0: 132\n",
      "33.0: 9\n",
      "34.0: 75\n",
      "35.0: 42\n",
      "36.0: 19\n",
      "37.0: 18\n",
      "38.0: 28907\n",
      "39.0: 56\n",
      "40.0: 17\n",
      "\n"
     ]
    }
   ],
   "source": [
    "# what does the distribution of features look like?\n",
    "for i in range(train_x.shape[1]):\n",
    "    if is_cat_features[i]:\n",
    "        utils.print_array_hist(train_x[:, i], label=col_names[i])\n",
    "    else:\n",
    "        utils.print_array_basic_stats(train_x[:, i], label=col_names[i])\n",
    "    print()"
   ]
  },
  {
   "cell_type": "code",
   "execution_count": 158,
   "metadata": {},
   "outputs": [
    {
     "data": {
      "image/png": "[encoded data removed]",
      "text/plain": [
       "<Figure size 432x288 with 1 Axes>"
      ]
     },
     "metadata": {
      "needs_background": "light"
     },
     "output_type": "display_data"
    }
   ],
   "source": [
    "# plot feature distribution based on income\n",
    "feature_idx = 0 # age\n",
    "\n",
    "if t == 'zscore':\n",
    "    bins = np.linspace(-2, 4, 40)\n",
    "elif t == 'normalized':\n",
    "    bins = np.linspace(0, 1, 20)\n",
    "else:\n",
    "    bins = 20\n",
    "\n",
    "inc0_idx = train_y == 0\n",
    "inc1_idx = train_y == 1\n",
    "\n",
    "plt.hist(train_x[inc0_idx,feature_idx], bins, density=True, alpha=0.5, label=income_list[0])\n",
    "plt.hist(train_x[inc1_idx,feature_idx], bins, density=True, alpha=0.5, label=income_list[1])\n",
    "\n",
    "plt.xlabel('{} {}'.format(col_names[feature_idx], t))\n",
    "plt.ylabel('Density')\n",
    "\n",
    "plt.legend(loc='upper right')\n",
    "plt.show()"
   ]
  },
  {
   "cell_type": "markdown",
   "metadata": {},
   "source": [
    "## [Task 3] (20 points): Correlations"
   ]
  },
  {
   "cell_type": "markdown",
   "metadata": {},
   "source": [
    "### [Task 3a] (5 points) Plot a heatmap of (pairwise) correlation between features and labels (see exercise 1)"
   ]
  },
  {
   "cell_type": "code",
   "execution_count": 159,
   "metadata": {},
   "outputs": [
    {
     "data": {
      "image/png": "[encoded data removed]",
      "text/plain": [
       "<Figure size 1008x1008 with 2 Axes>"
      ]
     },
     "metadata": {
      "needs_background": "light"
     },
     "output_type": "display_data"
    }
   ],
   "source": [
    "### Hint: make sure you compute all pairwise correlation and use plots.heatmap()! ###\n",
    "###* Put your code here *###\n",
    "\n",
    "train_xy = np.hstack((train_x, train_y.reshape(-1, 1)))\n",
    "pairwise_corr = np.corrcoef(train_xy, rowvar=False)\n",
    "plots.heatmap(pairwise_corr, col_names, col_names, rot=90, fsz=(14, 14))"
   ]
  },
  {
   "cell_type": "markdown",
   "metadata": {},
   "source": [
    "### [Task 3b] (10 points) What do you observe? Which features are correlated with the label?"
   ]
  },
  {
   "cell_type": "code",
   "execution_count": 160,
   "metadata": {},
   "outputs": [],
   "source": [
    "###* Put your answer as a comment here ###\n",
    "# There is a high correlation between the features sex and relationship. Other features have weak or no correlation \n",
    "# with each other. There aren't any features which are highly correlated to the label, but we can see from the heatmap that \n",
    "# education-num is moderately correlated and others have either weak or no correlation with the label.\n",
    "#"
   ]
  },
  {
   "cell_type": "markdown",
   "metadata": {},
   "source": [
    "### [Task 3c] (5 points) Given that some features like workclass, marital-status, race, sex are categorical, is the Pearson correlation coefficient a good measure of statistical relationship? If yes, explain why. If not, explain why not *and* propose (in brief) an alternative."
   ]
  },
  {
   "cell_type": "code",
   "execution_count": 161,
   "metadata": {},
   "outputs": [],
   "source": [
    "###* Put your answer as a comment here ###\n",
    "### If you need to refer to some external resource/link, please cite it properly ###\n",
    "# No the Pearson correlation coefficient is not a good measure of statistical relationship between categorical features. This\n",
    "# is because the pearson correlation is used to calculate the changes in between continous values of features, and the \n",
    "# categorical features are not continous and have unique importance to each of their values. \n",
    "# The alternative is to perform chi-squared test for categorical variables. It is a statistical hypothesis test that takes \n",
    "# a hypothesis into account in order to compare the categorical variable are related or not. It makes use of contingency table,\n",
    "# finds expected value and calculate chi-square value. Finally, based on this value it either accepts or rejects the hypothesis.\n",
    "# Source: https://towardsdatascience.com/chi-square-test-for-feature-selection-in-machine-learning-206b1f0b8223"
   ]
  },
  {
   "cell_type": "markdown",
   "metadata": {},
   "source": [
    "## Part 2: Let's train some models!"
   ]
  },
  {
   "cell_type": "markdown",
   "metadata": {},
   "source": [
    "## [Task 4] (30 points): Learning Curves"
   ]
  },
  {
   "cell_type": "markdown",
   "metadata": {},
   "source": [
    "### [Task 4a] (10 points): Complete the definition of the subsample_train_eval function which repreatedly trains a model using a subset of the train data and calculates training & validation accuracy"
   ]
  },
  {
   "cell_type": "code",
   "execution_count": 162,
   "metadata": {},
   "outputs": [],
   "source": [
    "from sklearn.base import clone\n",
    "from numpy import random\n",
    "def model_accuracy(model, x, true_y):\n",
    "    pred = model.predict(x)\n",
    "    return np.sum(pred == true_y) / true_y.shape[0]\n",
    "\n",
    "###* Put your code in the function below *###\n",
    "def subsample_train_eval(model, train_x, train_y, val_x, val_y, sample_size, num_repeats=10):\n",
    "    \n",
    "    train_accs = np.zeros((num_repeats,1))\n",
    "    val_accs = np.zeros_like(train_accs)\n",
    "    \n",
    "    rng = np.random.default_rng()\n",
    "    for i in range(0, num_repeats):\n",
    "        m = clone(model) # clone the model\n",
    "        \n",
    "        # take 'sample_size' random records from train_x (and train_y) and fit model m on it\n",
    "        # make sure your code gives you a different random subset each time (hint: use 'rng')!\n",
    "        ###* Put your code here *###\n",
    "        ind=rng.integers(low=0, high=len(train_x), size=sample_size)\n",
    "        tr_x=np.array([train_x[i] for i in ind])\n",
    "        tr_y=np.array([train_y[i] for i in ind])\n",
    "        m.fit(tr_x,tr_y)\n",
    "    \n",
    "        ### store the sample dataset in 'tr_x' and 'tr_y'\n",
    "        \n",
    "        # get the accuracies\n",
    "        train_accs[i] = model_accuracy(m, tr_x, tr_y)\n",
    "        val_accs[i] = model_accuracy(m, val_x, val_y)\n",
    "        \n",
    "    return train_accs, val_accs"
   ]
  },
  {
   "cell_type": "code",
   "execution_count": 163,
   "metadata": {},
   "outputs": [],
   "source": [
    "def plot_learning_curve(model_instance, model_name, train_x, train_y, val_x, val_y, train_szs=None):\n",
    "    \n",
    "    if train_szs is None:\n",
    "        train_szs = np.array([25, 50, 100, 200, 300, 500, 750, 1000, 1500, 2000])\n",
    "        \n",
    "    num_datapoints = train_szs.shape[0]\n",
    "    accs = np.zeros((num_datapoints,2))\n",
    "    laccs = np.zeros((num_datapoints,2))\n",
    "    uaccs = np.zeros((num_datapoints,2))\n",
    "    \n",
    "    sys.stdout.write('Plotting')\n",
    "\n",
    "    for i, tsz in enumerate(train_szs):\n",
    "        \n",
    "        nr = 20 if tsz <= 1000 else 10\n",
    "        train_accs, val_accs = subsample_train_eval(model_instance, train_x, train_y, val_x, val_y, tsz, num_repeats=nr)\n",
    "        \n",
    "        train_acc = np.mean(train_accs)\n",
    "        train_acc_std = np.std(train_accs)\n",
    "        \n",
    "        accs[i,0] = train_acc\n",
    "        laccs[i,0] = train_acc - train_acc_std\n",
    "        uaccs[i,0] = train_acc + train_acc_std\n",
    "        \n",
    "        val_acc = np.mean(val_accs)\n",
    "        val_acc_std = np.std(val_accs)\n",
    "        \n",
    "        accs[i,1] = val_acc\n",
    "        laccs[i,1] = val_acc - val_acc_std\n",
    "        uaccs[i,1] = val_acc + val_acc_std\n",
    "        \n",
    "        sys.stdout.write('.')\n",
    "        sys.stdout.flush()\n",
    "    print()\n",
    "    \n",
    "    fig, ax = plt.subplots(figsize=(15,8))\n",
    "\n",
    "    plt.fill_between(train_szs, laccs[:,0]*100.0, uaccs[:,0]*100.0, color='r', alpha=0.3)\n",
    "    plt.fill_between(train_szs, laccs[:,1]*100.0, uaccs[:,1]*100.0, color='b', alpha=0.3)\n",
    "    \n",
    "    plt.plot(train_szs, accs[:,0]*100.0, 'ro-', linewidth=3, label='Training')\n",
    "    plt.plot(train_szs, accs[:,1]*100.0, 'bs--', linewidth=3, label='Validation')\n",
    "\n",
    "    ax.set_xlim(0, np.max(train_szs))\n",
    "    ax.set_ylim(65, 104)\n",
    "    ax.set_xlabel('Number of training examples')\n",
    "    ax.set_ylabel('Accuracy')\n",
    "    ax.set_title('Learning Curves for {}'.format(model_name))\n",
    "\n",
    "    plt.legend()\n",
    "\n",
    "    plt.show()"
   ]
  },
  {
   "cell_type": "markdown",
   "metadata": {},
   "source": [
    "### [Task 4b] (10 points): Complete the code of the cell below to plot the learning curves"
   ]
  },
  {
   "cell_type": "code",
   "execution_count": 164,
   "metadata": {},
   "outputs": [
    {
     "name": "stdout",
     "output_type": "stream",
     "text": [
      "Plotting..........\n"
     ]
    },
    {
     "data": {
      "image/png": "[encoded data removed]",
      "text/plain": [
       "<Figure size 1080x576 with 1 Axes>"
      ]
     },
     "metadata": {
      "needs_background": "light"
     },
     "output_type": "display_data"
    },
    {
     "name": "stdout",
     "output_type": "stream",
     "text": [
      "Plotting..........\n"
     ]
    },
    {
     "data": {
      "image/png": "[encoded data removed]",
      "text/plain": [
       "<Figure size 1080x576 with 1 Axes>"
      ]
     },
     "metadata": {
      "needs_background": "light"
     },
     "output_type": "display_data"
    }
   ],
   "source": [
    "# Let's import what we need from scikit-learn\n",
    "from sklearn.neighbors import KNeighborsClassifier\n",
    "from sklearn.svm import LinearSVC, SVC\n",
    "\n",
    "# grab the zscore normalized version of the data\n",
    "train_x, train_y, test_x, test_y, val_x, val_y = grab_data('zscore')\n",
    "\n",
    "###* put your code here: instantiate a linear SVM model (SVC with a linear kernel) with default hyperparameters and plot its learning curve *###\n",
    "###* note: you just need to call 'plot_learning_curve' with the correct arguments\n",
    "svm = SVC(kernel='linear', random_state=seed)\n",
    "plot_learning_curve(svm,'SVM',train_x,train_y,val_x,val_y)    \n",
    "\n",
    "###* put your code here: instantiate a KNN (k=1) model with default hyperparameters and plot its learning curve *###\n",
    "###* note: again, you just need to call 'plot_learning_curve' with the correct arguments\n",
    "knn = KNeighborsClassifier(n_neighbors=1)\n",
    "plot_learning_curve(knn,'KNN',train_x,train_y,val_x,val_y)    \n",
    "\n"
   ]
  },
  {
   "cell_type": "markdown",
   "metadata": {},
   "source": [
    "### [Task 4c] (10 points): What can you conclude about the size of the training data necessary for both the SVM model and the KNN model? If you had to choose between the SVM and the KNN, which would you pick and why?"
   ]
  },
  {
   "cell_type": "code",
   "execution_count": 165,
   "metadata": {},
   "outputs": [],
   "source": [
    "###* Put your answer as a comment ###\n",
    "# As we can see from the learning curves that clearly SVM works better than KNN since KNN in overfitting the data with a high \n",
    "# training accuracy and low validation accuracy this implies that KNN needs much more training data inorder for the model \n",
    "# to produce decent results. But, in the case of SVM the training and validation accuracy are similar at the end of the \n",
    "# training examples which states that the training data is enough for the model to produce decent results. So, I would pick\n",
    "# SVM as the data is fitted well into the model whereas KNN is overfitting and requires much more data."
   ]
  },
  {
   "cell_type": "markdown",
   "metadata": {},
   "source": [
    "## [CIS6930 Additional Task -- Task 5] (25 points): Analysis of feature engineering"
   ]
  },
  {
   "cell_type": "markdown",
   "metadata": {},
   "source": [
    "### [Task 5a] (10 points): Train SVM and kNN models as in Task 4 for min-max normalized and zscore normalized features (not one-hot encoded) and compare them (print accuracies, bar plot, whatever you think is appropriate). Use the the training set (no learning curves). What do you conclude and why?"
   ]
  },
  {
   "cell_type": "code",
   "execution_count": 166,
   "metadata": {},
   "outputs": [
    {
     "name": "stdout",
     "output_type": "stream",
     "text": [
      "[SVM] Training accuracy: 81.07%, Validation accuracy: 81.41%\n",
      "[KNN] Training accuracy: 96.87%, Validation accuracy: 79.62%\n",
      "[SVM] Training accuracy: 81.19%, Validation accuracy: 81.38%\n",
      "[KNN] Training accuracy: 96.82%, Validation accuracy: 79.18%\n"
     ]
    }
   ],
   "source": [
    "# Note: you can use evaluate_model() provided above (or you can do something else) for Tasks 5a and/or 5b #\n",
    "def evaluate_model(name, model, train_x, train_y, val_x, val_y):\n",
    "    train_acc = model_accuracy(model, train_x, train_y)\n",
    "    val_acc = model_accuracy(model, val_x, val_y)\n",
    "    print('[{}] Training accuracy: {:.2f}%, Validation accuracy: {:.2f}%'.format(name, train_acc*100, val_acc*100))\n",
    "\n",
    "from sklearn.neighbors import KNeighborsClassifier\n",
    "from sklearn.svm import LinearSVC, SVC  \n",
    "\n",
    "###* Put your code here *###\n",
    "###* The SVM model: SVC(kernel='linear')\n",
    "###* The KNN model: KNeighborsClassifier(n_neighbors=1)\n",
    "###* Use 'grab_data' to get the feature engineered data you need  *###\n",
    "#\n",
    "\n",
    "train_x1, train_y1, test_x1, test_y1, val_x1, val_y1 = grab_data('zscore')\n",
    "svm1 = SVC(kernel='linear', random_state=seed)\n",
    "svm1.fit(train_x1,train_y1)\n",
    "evaluate_model('SVM',svm1,train_x1, train_y1, val_x1, val_y1)\n",
    "knn1 = KNeighborsClassifier(n_neighbors=1)\n",
    "knn1.fit(train_x1,train_y1)\n",
    "evaluate_model('KNN',knn1,train_x1, train_y1, val_x1, val_y1)\n",
    "\n",
    "train_x2, train_y2, test_x2, test_y2, val_x2, val_y2 = grab_data('normalized')\n",
    "svm2 = SVC(kernel='linear', random_state=seed)\n",
    "svm2.fit(train_x2,train_y2)\n",
    "evaluate_model('SVM',svm2,train_x2, train_y2, val_x2, val_y2)\n",
    "knn2 = KNeighborsClassifier(n_neighbors=1)\n",
    "knn2.fit(train_x2,train_y2)\n",
    "evaluate_model('KNN',knn2,train_x2, train_y2, val_x2, val_y2)\n",
    " \n",
    "\n"
   ]
  },
  {
   "cell_type": "code",
   "execution_count": 167,
   "metadata": {},
   "outputs": [],
   "source": [
    "###* Put your answer (what do you conclude and why?) as a comment here ###\n",
    "# Models being min-max normalized or z-score normalized have similar behaviour, for example SVM models of z-score and min-max \n",
    "# normalized have simlar training and validation accuracies, this is due to the fact that these are simply two different \n",
    "# ways for performing standardization. And SVM being more robust to training data requirement yields better results than KNN. \n"
   ]
  },
  {
   "cell_type": "markdown",
   "metadata": {},
   "source": [
    "### [Task 5b] (15 points): Now repeat the analysis but this time compare the one-hot encoded features to non-one-hot encoded features. Use the full training set (no learning curves). What is the impact on the models (for both SVM & kNN) of one-hot encoding? Briefly comment on your findings."
   ]
  },
  {
   "cell_type": "code",
   "execution_count": 168,
   "metadata": {},
   "outputs": [
    {
     "name": "stdout",
     "output_type": "stream",
     "text": [
      "[SVM] Training accuracy: 84.48%, Validation accuracy: 84.68%\n",
      "[KNN] Training accuracy: 97.17%, Validation accuracy: 79.53%\n"
     ]
    }
   ],
   "source": [
    "###* Put your code here *###\n",
    "#\n",
    "#\n",
    "train_x1, train_y1, test_x1, test_y1, val_x1, val_y1 = grab_data('onehot_z')\n",
    "svm1 = SVC(kernel='linear', random_state=seed)\n",
    "svm1.fit(train_x1,train_y1)\n",
    "evaluate_model('SVM',svm1,train_x1, train_y1, val_x1, val_y1)\n",
    "knn1 = KNeighborsClassifier(n_neighbors=1)\n",
    "knn1.fit(train_x1,train_y1)\n",
    "evaluate_model('KNN',knn1,train_x1, train_y1, val_x1, val_y1)"
   ]
  },
  {
   "cell_type": "code",
   "execution_count": 169,
   "metadata": {},
   "outputs": [
    {
     "name": "stdout",
     "output_type": "stream",
     "text": [
      "[SVM] Training accuracy: 84.70%, Validation accuracy: 84.67%\n",
      "[KNN] Training accuracy: 96.76%, Validation accuracy: 78.84%\n"
     ]
    }
   ],
   "source": [
    "train_x2, train_y2, test_x2, test_y2, val_x2, val_y2 = grab_data('onehot_n')\n",
    "svm2 = SVC(kernel='linear', random_state=seed)\n",
    "svm2.fit(train_x2,train_y2)\n",
    "evaluate_model('SVM',svm2,train_x2, train_y2, val_x2, val_y2)\n",
    "knn2 = KNeighborsClassifier(n_neighbors=1)\n",
    "knn2.fit(train_x2,train_y2)\n",
    "evaluate_model('KNN',knn2,train_x2, train_y2, val_x2, val_y2)"
   ]
  },
  {
   "cell_type": "code",
   "execution_count": 170,
   "metadata": {},
   "outputs": [],
   "source": [
    "###* Put your answer (i.e., comment on your findings) as a comment ###\n",
    "# Clearly by introducing one hot encoding has made an impact on the SVM with an increase of about 3-4 % in accuracies when\n",
    "# compared to non-one hot encoding ones from task 5a. But in the case of KNN, shows that it is still struggling due to lack of \n",
    "# data has shown no change at all by introducing the one-hot encoding."
   ]
  },
  {
   "cell_type": "code",
   "execution_count": null,
   "metadata": {},
   "outputs": [],
   "source": []
  },
  {
   "cell_type": "code",
   "execution_count": null,
   "metadata": {},
   "outputs": [],
   "source": []
  },
  {
   "cell_type": "code",
   "execution_count": null,
   "metadata": {},
   "outputs": [],
   "source": []
  }
 ],
 "metadata": {
  "kernelspec": {
   "display_name": "Python 3",
   "language": "python",
   "name": "python3"
  },
  "language_info": {
   "codemirror_mode": {
    "name": "ipython",
    "version": 3
   },
   "file_extension": ".py",
   "mimetype": "text/x-python",
   "name": "python",
   "nbconvert_exporter": "python",
   "pygments_lexer": "ipython3",
   "version": "3.6.5"
  }
 },
 "nbformat": 4,
 "nbformat_minor": 2
}
